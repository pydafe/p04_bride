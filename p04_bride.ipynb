{
 "cells": [
  {
   "cell_type": "markdown",
   "metadata": {},
   "source": [
    "# Задача о разборчивой невесте\n",
    "\n",
    "* [Описание на wikipedia](https://ru.wikipedia.org/wiki/%D0%97%D0%B0%D0%B4%D0%B0%D1%87%D0%B0_%D0%BE_%D1%80%D0%B0%D0%B7%D0%B1%D0%BE%D1%80%D1%87%D0%B8%D0%B2%D0%BE%D0%B9_%D0%BD%D0%B5%D0%B2%D0%B5%D1%81%D1%82%D0%B5)\n",
    "* [Брошюра Гусейн-Заде](https://www.mccme.ru/mmmf-lectures/books/books/book.25.pdf)\n",
    "\n",
    "Задача: провести статистические испытания разных стратегий поведения невест. Следует заполнить недостающий код. Примеры выводов, которые необходимо получить, даны в конце блокнота."
   ]
  },
  {
   "cell_type": "code",
   "execution_count": 3,
   "metadata": {},
   "outputs": [],
   "source": [
    "class Bride:\n",
    "    \"\"\"\n",
    "    Абстрактная невеста. Базовый класс для всех стратегий поведения невест.\n",
    "    \n",
    "    Соглашение о женихах:\n",
    "    Женихи - целые числа от 0 до n.\n",
    "    0 -- самый привлекательный жених, (n-1) -- самый нежеланный.\n",
    "    Можно считать, что этот номер -- это место в \"забеге среди женихов\".\n",
    "    Проводя дальнейшую аналогию, можно сказать, что\n",
    "    0, 1 и 2 -- это золото, серебро и бронза.\n",
    "    \n",
    "    Соглашение о невесте:\n",
    "    Для статистических испытаний создаём одну невесту, а между разными сессиями\n",
    "    по подбору жениха стираем ей память методом clear.\n",
    "    \n",
    "    Метод match(self, groom) -- это один шаг в сессии подбора жениха.\n",
    "    Возвращает либо True (подходит), либо False (не подходит).\n",
    "    \n",
    "    Метод clear(self) -- очищает память невесты, чтобы можно было начать\n",
    "    новую сессию по подбору.\n",
    "    \"\"\"\n",
    "    def match(self, groom):\n",
    "        raise NotImplementedError('abstract method')\n",
    "    \n",
    "    def clear(self):\n",
    "        raise NotImplementedError('abstract method')"
   ]
  },
  {
   "cell_type": "code",
   "execution_count": 4,
   "metadata": {},
   "outputs": [],
   "source": [
    "class ImpatientBride(Bride):\n",
    "    \"\"\"\n",
    "    Стратегия поведения нетерпеливой невесты. Соглашается на первого встречного.\n",
    "    \"\"\"\n",
    "    def match(self, groom):\n",
    "        return True\n",
    "    \n",
    "    def clear(self):\n",
    "        pass"
   ]
  },
  {
   "cell_type": "code",
   "execution_count": 5,
   "metadata": {},
   "outputs": [],
   "source": [
    "class ForgetfulBride(Bride):\n",
    "    \"\"\"\n",
    "    Стратегия поведения забывчивой невесты. Соглашается, если текущий жених лучше\n",
    "    нескольких предыдущих.\n",
    "    \"\"\"\n",
    "    def __init__(self, memory_size=3):\n",
    "        \"\"\"\n",
    "        Parameters\n",
    "        ----------\n",
    "        memory_size\n",
    "          Размер памяти забывчивой невесты. По-умолчанию, помнит предыдущих трёх.\n",
    "        \"\"\"\n",
    "        self.memory_size = memory_size\n",
    "        self.memory = []\n",
    "    \n",
    "    def match(self, groom):\n",
    "        if len(self.memory) < self.memory_size:\n",
    "            # Недостаточно \"опыта\". Посмотрели и отказали.\n",
    "            self.memory.append(groom)\n",
    "            return False\n",
    "        elif groom >= min(self.memory):\n",
    "            # Недостаточно хороший жених. Хуже предыдущих.\n",
    "            self.memory.append(groom)\n",
    "            self.memory.pop(0)\n",
    "            return False\n",
    "        else:\n",
    "            # Достаточно хороший жених.\n",
    "            return True\n",
    "    \n",
    "    def clear(self):\n",
    "        self.memory.clear()"
   ]
  },
  {
   "cell_type": "code",
   "execution_count": 6,
   "metadata": {},
   "outputs": [],
   "source": [
    "import math\n",
    "\n",
    "class SelectiveBride(Bride):\n",
    "    \"\"\"\n",
    "    Стратегия поведения разборчивой невесты. Первые 1/e женихов пропускает, набирая опыта.\n",
    "    Потом соглашается на первого, кто будет лучшим. См. брошюру Гусейн-Заде.\n",
    "    \"\"\"\n",
    "    def __init__(self, size, threshold= None):\n",
    "        \"\"\"\n",
    "        Parameters\n",
    "        ----------\n",
    "        size: int\n",
    "          Количество женихов.\n",
    "        \n",
    "        threshold: int\n",
    "          Порог обучения, после которого невеста начинает выбирать лучшего.\n",
    "        \"\"\"\n",
    "        if threshold == None:\n",
    "            threshold = size//2.71828182846 \n",
    "        self.threshold_size = threshold\n",
    "        self.threshold = []\n",
    "        \n",
    "    \n",
    "    def match(self, groom):\n",
    "        if len(self.threshold) < self.threshold_size:\n",
    "            # Недостаточно \"опыта\". Посмотрели и отказали.\n",
    "            self.threshold.append(groom)\n",
    "            return False\n",
    "        elif groom >= min(self.threshold):\n",
    "            # Недостаточно хороший жених. Хуже предыдущих.\n",
    "            return False\n",
    "        else:\n",
    "            # Достаточно хороший жених.\n",
    "            return True\n",
    "        \n",
    "    \n",
    "    def clear(self):\n",
    "        self.threshold.clear()"
   ]
  },
  {
   "cell_type": "code",
   "execution_count": 7,
   "metadata": {},
   "outputs": [],
   "source": [
    "import random\n",
    "import numpy\n",
    "\n",
    "class MatchingSessions:\n",
    "    \"\"\"\n",
    "    Проведение статистических испытаний стратегий поведения невесты.\n",
    "    \"\"\"\n",
    "    def __init__(self, bride, grooms=1000, sessions=10000):\n",
    "        \"\"\"\n",
    "        Parameters\n",
    "        ----------\n",
    "        bride\n",
    "          Невеста для испытаний.\n",
    "        \n",
    "        grooms\n",
    "          Либо список женихов, либо их количество.\n",
    "        \n",
    "        sessions\n",
    "          Количество сессий статистических испытаний.\n",
    "        \"\"\"\n",
    "        self.bride = bride\n",
    "        self.sessions = sessions\n",
    "        self.grooms = []\n",
    "        if isinstance(grooms, int):\n",
    "            self.grooms = list(range(grooms))\n",
    "        elif isinstance(grooms, list):\n",
    "            self.grooms = grooms\n",
    "        else:\n",
    "            msg = 'improper grooms type {}'.format(type(grooms))\n",
    "            raise ValueError(msg)\n",
    "\n",
    "    def run_single_session(self):\n",
    "        \"\"\"\n",
    "        Проведение одной сессии по подбору женихов. \n",
    "\n",
    "        Returns\n",
    "        -------\n",
    "        Подобранный жених. Либо последний, если невеста не дала согласия.\n",
    "        \"\"\"\n",
    "        random.shuffle(self.grooms)\n",
    "        self.bride.clear()\n",
    "        for i in range(len(self.grooms)):\n",
    "            if(self.bride.match(self.grooms[i])) == True:\n",
    "                return(self.grooms[i])\n",
    "        return (self.grooms[-1])\n",
    "\n",
    "    def run(self):\n",
    "        \"\"\"\n",
    "        Проведение серии статистических испытаний. Вывод статистики.\n",
    "        \n",
    "        Returns\n",
    "        -------\n",
    "        Словарь с посчитанной статистикой:\n",
    "          * mean -- средний номер выбранного жениха,\n",
    "          * best -- вероятность выбора наилучшего жениха (под номером 0),\n",
    "          * medalists -- вероятность выбора жениха из первой тройки (под номерами 0, 1 или 2).\n",
    "        \"\"\"\n",
    "        numbers = []\n",
    "        first = 0\n",
    "        second = 0\n",
    "        third = 0\n",
    "        for i in range(self.sessions):\n",
    "            gr = MatchingSessions(self.bride, self.grooms).run_single_session()\n",
    "            numbers.append(gr)\n",
    "            \n",
    "            if gr == 0: \n",
    "                first += 1\n",
    "            if gr == 1: \n",
    "                second += 1\n",
    "            if gr == 2: \n",
    "                third += 1\n",
    "        result = {\"mean\": numpy.mean(numbers), \"best\": first/self.sessions, \"medalists\":  (first+second+third)/self.sessions}\n",
    "        \n",
    "        print(result)"
   ]
  },
  {
   "cell_type": "markdown",
   "metadata": {},
   "source": [
    "Примеры выводов\n"
   ]
  },
  {
   "cell_type": "code",
   "execution_count": 225,
   "metadata": {},
   "outputs": [
    {
     "name": "stdout",
     "output_type": "stream",
     "text": [
      "{'mean': 223.5855, 'best': 0.0031, 'medalists': 0.0095}\n"
     ]
    }
   ],
   "source": [
    "# Статистики забывчивой невесты, помнящей только трёх последних женихов.\n",
    "MatchingSessions(ForgetfulBride(3)).run()"
   ]
  },
  {
   "cell_type": "code",
   "execution_count": 218,
   "metadata": {},
   "outputs": [
    {
     "name": "stdout",
     "output_type": "stream",
     "text": [
      "{'mean': 498.4428, 'best': 0.0007, 'medalists': 0.0028}\n"
     ]
    }
   ],
   "source": [
    "# Статистики нетерпеливой невесты, выбирающей первого попавшегося.\n",
    "MatchingSessions(ImpatientBride()).run()"
   ]
  },
  {
   "cell_type": "code",
   "execution_count": 8,
   "metadata": {},
   "outputs": [
    {
     "name": "stdout",
     "output_type": "stream",
     "text": [
      "{'mean': 181.4076, 'best': 0.3667, 'medalists': 0.5696}\n"
     ]
    }
   ],
   "source": [
    "# Статистики стандартной разборчивой невесты.\n",
    "MatchingSessions(SelectiveBride(1000)).run()"
   ]
  },
  {
   "cell_type": "code",
   "execution_count": 9,
   "metadata": {},
   "outputs": [
    {
     "name": "stdout",
     "output_type": "stream",
     "text": [
      "{'mean': 100.1391, 'best': 0.3242, 'medalists': 0.5858}\n"
     ]
    }
   ],
   "source": [
    "# Статистики разборчивой невесты с обучением на 20% женихов.\n",
    "MatchingSessions(SelectiveBride(1000, 200)).run()"
   ]
  },
  {
   "cell_type": "code",
   "execution_count": 10,
   "metadata": {},
   "outputs": [
    {
     "name": "stdout",
     "output_type": "stream",
     "text": [
      "{'mean': 245.1381, 'best': 0.3528, 'medalists': 0.4819}\n"
     ]
    }
   ],
   "source": [
    "# Статистики разборчивой невесты с обучением на 50% женихов.\n",
    "MatchingSessions(SelectiveBride(1000,500)).run()"
   ]
  },
  {
   "cell_type": "code",
   "execution_count": null,
   "metadata": {},
   "outputs": [],
   "source": []
  }
 ],
 "metadata": {
  "kernelspec": {
   "display_name": "Python 3",
   "language": "python",
   "name": "python3"
  },
  "language_info": {
   "codemirror_mode": {
    "name": "ipython",
    "version": 3
   },
   "file_extension": ".py",
   "mimetype": "text/x-python",
   "name": "python",
   "nbconvert_exporter": "python",
   "pygments_lexer": "ipython3",
   "version": "3.8.3"
  }
 },
 "nbformat": 4,
 "nbformat_minor": 4
}
